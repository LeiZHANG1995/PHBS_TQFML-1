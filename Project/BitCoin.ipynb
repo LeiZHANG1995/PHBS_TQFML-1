{
 "cells": [
  {
   "cell_type": "markdown",
   "metadata": {},
   "source": [
    "# Project : The price change of bitcoin\n",
    "\n"
   ]
  },
  {
   "cell_type": "markdown",
   "metadata": {},
   "source": [
    "### (1) Download data"
   ]
  },
  {
   "cell_type": "markdown",
   "metadata": {},
   "source": [
    "Download data from https://blockchain.info/charts/"
   ]
  },
  {
   "cell_type": "code",
   "execution_count": 1,
   "metadata": {
    "scrolled": true
   },
   "outputs": [],
   "source": [
    "import requests\n",
    "import re\n",
    "import json\n",
    "\n",
    "def download_data_from_blockchain(timespan, item):\n",
    "    url = 'https://api.blockchain.info/charts/'+item+'?timespan='+time_span+'&format=json'\n",
    "    json_webpage = requests.get(url).content\n",
    "    json_obj = json.loads(json_webpage.decode('utf8'))\n",
    "    re_time = []\n",
    "    re_data = []\n",
    "    for data in json_obj['values']:\n",
    "        re_time.append(data['x'])\n",
    "        re_data.append(data['y'])\n",
    "    return(re_time, re_data)\n",
    "\n",
    "# the downloaded json format data is a 'dict' type object which contains the following items:\n",
    "# data['unit']\n",
    "# data['description']\n",
    "# data['status']\n",
    "# data['period']\n",
    "# data['name']\n",
    "# data['values'][0]['x']  # time\n",
    "# data['values'][0]['y']  # year\n",
    "# \n",
    "# the download_data_from_blockchain(..) function turn it into a simplier data base.\n",
    "\n",
    "time_span = '1year'\n",
    "\n",
    "# 1. Download 'Currency statistics' datas from https://blockchain.info/charts/\n",
    "# \n",
    "# download market-price of bitcoin\n",
    "market_price_time, market_price_data = download_data_from_blockchain(time_span, 'market-price')\n",
    "\n",
    "# download The total number of bitcoins that have already been mined; \n",
    "# in other words, the current supply of bitcoins on the network.\n",
    "supply_time, supply_data = download_data_from_blockchain(time_span, 'total-bitcoins')\n",
    "\n",
    "# download the total USD value of bitcoin supply in circulation, \n",
    "# as calculated by the daily average market price across major exchanges.\n",
    "market_cap_time, market_cap_data = download_data_from_blockchain(time_span, 'market-cap')\n",
    "\n",
    "# downlad The total USD value of trading volume on major bitcoin exchanges.\n",
    "trade_vol_time, trade_vol_data = download_data_from_blockchain(time_span, 'trade-volume')\n",
    "\n",
    "# check whether the downloaded data matches with each other.\n",
    "# if supply_time == market_price_time:\n",
    "#     print(\"Yes, the 'supply' data is matches the 'market_price' data well.\")\n",
    "# if market_cap_time == market_price_time:\n",
    "#     print(\"Yes, the 'market_cap' data matches the 'market price' data well.\")\n",
    "# if trade_vol_time == market_price_time:\n",
    "#     print(\"Yes, the 'trade-vol' data matches the 'market price' data well.\")\n",
    "\n",
    "# print(market_price_time[0])  # the format of time needs to be transformed. \n",
    "# print()\n",
    "\n",
    "\n",
    "# Also we can download other features available on this website, such as:\n",
    "# \n",
    "# 2. Mining information \n",
    "# (1) difficulty : A relative measure of how difficult it is to find a new block. \n",
    "#                  The difficulty is adjusted periodically as a function of how \n",
    "#                  much hashing power has been deployed by the network of miners.\n",
    "# (2) miners-revenue : Total value of coinbase block rewards and transaction fees paid to miners.\n",
    "# (3) hash-rate : The estimated number of tera hashes per second \n",
    "#                 (trillions of hashes per second) the Bitcoin network is performing.\n",
    "# (4) transaction-fees : The total value of all transaction fees paid to miners \n",
    "#                 (not including the coinbase value of block rewards).\n",
    "# (5) transaction-fees-usd\n",
    "# (6) cost-per-transaction-percent : A chart showing miners revenue as percentage \n",
    "#                 of the transaction volume.\n",
    "# (7) cost-per-transaction : A chart showing miners revenue divided by the number of transactions.\n",
    "# \n",
    "# 3. Network activity \n",
    "# \n",
    "# 4. Blockchain Wallet Activity \n",
    "# \n",
    "# 5. Block details \n",
    "# \n",
    "# ......\n",
    "# "
   ]
  },
  {
   "cell_type": "markdown",
   "metadata": {},
   "source": [
    "It would be interesting if we search a little bit about 'Wicki searching' data\n",
    "Actually, we can download the data from https://tools.wmflabs.org/pageviews"
   ]
  },
  {
   "cell_type": "code",
   "execution_count": 2,
   "metadata": {},
   "outputs": [
    {
     "name": "stdout",
     "output_type": "stream",
     "text": [
      "https://tools.wmflabs.org/pageviews/?pages=Bitcoin&range=all-time&project=en.wikipedia.org&platform=all-access&agent=user\n"
     ]
    }
   ],
   "source": [
    "page = '?pages=Bitcoin'\n",
    "dates_range = '&range=all-time'\n",
    "agent = '&agent=user'                 # 'all', 'spider', 'bot'\n",
    "platform = '&platform=all-access'     # 'Desktop', 'Mobile app', 'Mobile web'\n",
    "project = '&project=en.wikipedia.org'\n",
    "\n",
    "url = 'https://tools.wmflabs.org/pageviews/'+page+dates_range+project+platform+agent\n",
    "print(url)\n",
    "\n",
    "## Sorry, I have to admit that, this crawler is out of my ability.\n",
    "#\n",
    "# Thus, I download the data manually."
   ]
  },
  {
   "cell_type": "code",
   "execution_count": 3,
   "metadata": {},
   "outputs": [],
   "source": [
    "file = open('./pageviews-20150701-20180411.json')\n",
    "try:\n",
    "     text = file.read()\n",
    "finally:\n",
    "     file.close()\n",
    "\n",
    "data = json.loads(text)[0]\n",
    "# print(type(data))\n",
    "\n",
    "my_time = []\n",
    "my_data = []\n",
    "\n",
    "for (k, v) in data.items():\n",
    "    my_time.append(k)\n",
    "    my_data.append(v)"
   ]
  },
  {
   "cell_type": "markdown",
   "metadata": {},
   "source": [
    "Also, there are many other data sourses that we can use. For example, we can download datas from https://www.quandl.com/search, which is a free financial database, where we can find some financial relat. I would not display every detail of this data collection process. "
   ]
  }
 ],
 "metadata": {
  "kernelspec": {
   "display_name": "Python 3",
   "language": "python",
   "name": "python3"
  },
  "language_info": {
   "codemirror_mode": {
    "name": "ipython",
    "version": 3
   },
   "file_extension": ".py",
   "mimetype": "text/x-python",
   "name": "python",
   "nbconvert_exporter": "python",
   "pygments_lexer": "ipython3",
   "version": "3.4.6"
  }
 },
 "nbformat": 4,
 "nbformat_minor": 2
}
