{
 "cells": [
  {
   "cell_type": "markdown",
   "metadata": {},
   "source": [
    "# Project : The price change of bitcoin\n",
    "\n"
   ]
  },
  {
   "cell_type": "code",
   "execution_count": null,
   "metadata": {},
   "outputs": [],
   "source": [
    "import requests\n",
    "import json\n",
    "\n",
    "# download market-price data\n",
    "time_span = '5years'\n",
    "item = 'market-price'\n",
    "url = 'https://api.blockchain.info/charts/'+item+'?timespan='+time_span+'&format=json'\n",
    "market_price_json_webpage = requests.get(url).content\n",
    "market_price_json_obj = json.loads(market_price_json_webpage.decode('utf8'))\n",
    "\n",
    "# the downloaded data is a 'dict' type object which contains the following items:\n",
    "# data['unit']\n",
    "# data['description']\n",
    "# data['status']\n",
    "# data['period']\n",
    "# data['name']\n",
    "# data['values'][0]['x']  # time\n",
    "# data['values'][0]['y']  # year\n",
    "\n",
    "market_price_time = []\n",
    "market_price_data = []\n",
    "for data in market_price_json_obj['values']:\n",
    "    market_price_time.append(data['x'])\n",
    "    market_price_data.append(data['y'])\n",
    "\n"
   ]
  },
  {
   "cell_type": "code",
   "execution_count": null,
   "metadata": {},
   "outputs": [],
   "source": []
  },
  {
   "cell_type": "code",
   "execution_count": null,
   "metadata": {},
   "outputs": [],
   "source": []
  },
  {
   "cell_type": "code",
   "execution_count": null,
   "metadata": {},
   "outputs": [],
   "source": []
  }
 ],
 "metadata": {
  "kernelspec": {
   "display_name": "Python 3",
   "language": "python",
   "name": "python3"
  },
  "language_info": {
   "codemirror_mode": {
    "name": "ipython",
    "version": 3
   },
   "file_extension": ".py",
   "mimetype": "text/x-python",
   "name": "python",
   "nbconvert_exporter": "python",
   "pygments_lexer": "ipython3",
   "version": "3.4.6"
  }
 },
 "nbformat": 4,
 "nbformat_minor": 2
}
