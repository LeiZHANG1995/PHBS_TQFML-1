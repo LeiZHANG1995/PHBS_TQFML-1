{
 "cells": [
  {
   "cell_type": "markdown",
   "metadata": {},
   "source": [
    "# Homework 2:  Bank Marketing\n",
    "Zhuang Lin-Sheng (Jonathan) (1701212990)"
   ]
  },
  {
   "cell_type": "markdown",
   "metadata": {},
   "source": [
    "### (1) Preparation"
   ]
  },
  {
   "cell_type": "markdown",
   "metadata": {},
   "source": [
    "First, we need to download the dataset from internet with the \"**_urllib_**\" module if we don't have local dataset file, and extract the zip file that we have downloaded with the \"**_zipfile_**\" modual. Also, we need to load the local \".csv\" file into python environment.\n",
    "\n",
    "After doing that, I would like to choose '**_age_**'(numerical), '**_balance_**'(numerical), and '**_housing_**'(binary) as my predictors, and '**_y_**'(which means individuals' decisions of term deposit, binary) as the response variable. Then, we need to replace the characters in categorical variables with numbers. The rule of the replacement is as follow:\n",
    "\n",
    "> **y** : binary variable. 1 for \"yes\" and -1 for \"no\".\n",
    "\n",
    "> **age** : numerical variable.\n",
    "\n",
    "> **balance** : numerical variable.\n",
    "\n",
    "> **housing** : binary variable. 1 for \"yes\" and 0 for \"no\"."
   ]
  },
  {
   "cell_type": "code",
   "execution_count": 1,
   "metadata": {},
   "outputs": [
    {
     "data": {
      "text/html": [
       "<div>\n",
       "<style scoped>\n",
       "    .dataframe tbody tr th:only-of-type {\n",
       "        vertical-align: middle;\n",
       "    }\n",
       "\n",
       "    .dataframe tbody tr th {\n",
       "        vertical-align: top;\n",
       "    }\n",
       "\n",
       "    .dataframe thead th {\n",
       "        text-align: right;\n",
       "    }\n",
       "</style>\n",
       "<table border=\"1\" class=\"dataframe\">\n",
       "  <thead>\n",
       "    <tr style=\"text-align: right;\">\n",
       "      <th></th>\n",
       "      <th>age</th>\n",
       "      <th>balance</th>\n",
       "      <th>education</th>\n",
       "      <th>housing</th>\n",
       "    </tr>\n",
       "  </thead>\n",
       "  <tbody>\n",
       "    <tr>\n",
       "      <th>0</th>\n",
       "      <td>30</td>\n",
       "      <td>1787</td>\n",
       "      <td>1</td>\n",
       "      <td>0</td>\n",
       "    </tr>\n",
       "    <tr>\n",
       "      <th>1</th>\n",
       "      <td>33</td>\n",
       "      <td>4789</td>\n",
       "      <td>2</td>\n",
       "      <td>1</td>\n",
       "    </tr>\n",
       "    <tr>\n",
       "      <th>2</th>\n",
       "      <td>35</td>\n",
       "      <td>1350</td>\n",
       "      <td>3</td>\n",
       "      <td>1</td>\n",
       "    </tr>\n",
       "    <tr>\n",
       "      <th>3</th>\n",
       "      <td>30</td>\n",
       "      <td>1476</td>\n",
       "      <td>3</td>\n",
       "      <td>1</td>\n",
       "    </tr>\n",
       "    <tr>\n",
       "      <th>4</th>\n",
       "      <td>59</td>\n",
       "      <td>0</td>\n",
       "      <td>2</td>\n",
       "      <td>1</td>\n",
       "    </tr>\n",
       "  </tbody>\n",
       "</table>\n",
       "</div>"
      ],
      "text/plain": [
       "   age  balance  education  housing\n",
       "0   30     1787          1        0\n",
       "1   33     4789          2        1\n",
       "2   35     1350          3        1\n",
       "3   30     1476          3        1\n",
       "4   59        0          2        1"
      ]
     },
     "execution_count": 1,
     "metadata": {},
     "output_type": "execute_result"
    }
   ],
   "source": [
    "# Download the data from the internet if we don't have local dataset file.\n",
    "# import urllib\n",
    "# url = 'http://archive.ics.uci.edu/ml/machine-learning-databases/00222/bank.zip'\n",
    "# zip_file = \"bank.zip\"\n",
    "# urllib.request.urlretrieve(url, zip_file)\n",
    "\n",
    "import zipfile\n",
    "azip = zipfile.ZipFile('bank.zip')\n",
    "azip.extractall()\n",
    "\n",
    "import pandas as pd\n",
    "bank = pd.read_table('./bank.csv', sep = ';')\n",
    "\n",
    "import numpy as np\n",
    "y = bank.y.values\n",
    "y = np.where(y == 'yes', 1, -1)\n",
    "Xdf = pd.DataFrame()\n",
    "Xdf['age'] = bank['age']\n",
    "Xdf['balance'] = bank['balance']\n",
    "Xdf['education'] = bank.education.replace(['primary', 'secondary', 'tertiary', 'unknown'], [1, 2, 3, 0])\n",
    "Xdf['housing'] = bank['housing'].replace(['yes', 'no'],[1, 0])\n",
    "Xdf.head()"
   ]
  },
  {
   "cell_type": "markdown",
   "metadata": {},
   "source": [
    "Then, we need to split the data into training and test data-subsets. It would be easy to use \"**_sklearn_**\" modual which have been well developed by other engineers, and call the \"**_train_\\__test_\\__split_**\" method. "
   ]
  },
  {
   "cell_type": "code",
   "execution_count": 2,
   "metadata": {
    "scrolled": false
   },
   "outputs": [
    {
     "name": "stderr",
     "output_type": "stream",
     "text": [
      "/usr/lib64/python3.4/site-packages/sklearn/cross_validation.py:41: DeprecationWarning: This module was deprecated in version 0.18 in favor of the model_selection module into which all the refactored classes and functions are moved. Also note that the interface of the new CV iterators are different from that of this module. This module will be removed in 0.20.\n",
      "  \"This module will be removed in 0.20.\", DeprecationWarning)\n"
     ]
    }
   ],
   "source": [
    "from sklearn.cross_validation import train_test_split\n",
    "X_train, X_test, y_train, y_test = train_test_split(Xdf, y, test_size = 0.3, random_state = 1)"
   ]
  },
  {
   "cell_type": "markdown",
   "metadata": {},
   "source": [
    "Before practicing machine learning algorithms, we'd better standardize the data. We would standardize the explanatory features \"**_age_**\" and \"**_balance_**\". It will be easy if we use \"**_StandardScaler_**\" method from \"**_sklearn_**\" modual."
   ]
  },
  {
   "cell_type": "code",
   "execution_count": 3,
   "metadata": {},
   "outputs": [],
   "source": [
    "from sklearn.preprocessing import StandardScaler\n",
    "sc = StandardScaler()\n",
    "sc.fit(X_train.iloc[:,[0,1]]) ## Just the two features are numerical variables.\n",
    "\n",
    "X_train_std_partial = sc.transform(X_train.iloc[:,[0,1]])\n",
    "X_test_std_partial = sc.transform(X_test.iloc[:,[0,1]])\n",
    "\n",
    "X_train_std = np.hstack((X_train_std_partial, X_train.iloc[:,[2, 3]]))\n",
    "X_test_std = np.hstack((X_test_std_partial, X_test.iloc[:,[2, 3]]))\n",
    "\n",
    "X_std = np.hstack((np.vstack((X_train_std_partial, X_test_std_partial)), \n",
    "                   np.vstack((X_train, X_test))[:,[2, 3]]))"
   ]
  },
  {
   "cell_type": "markdown",
   "metadata": {},
   "source": [
    "The variable \"**_X_\\__std_**\" as well as \"**_y_**\" is a numpy.ndarray type. \n",
    "\n",
    "Lastly, we will write a function to plot the results of different ML algorithms:"
   ]
  },
  {
   "cell_type": "code",
   "execution_count": 4,
   "metadata": {},
   "outputs": [],
   "source": [
    "from matplotlib.colors import ListedColormap\n",
    "import matplotlib.pyplot as plt\n",
    "\n",
    "def plot_decision_regions(X, y, classifier, test_idx=None, resolution=0.02):\n",
    "\n",
    "    # setup marker generator and color map\n",
    "    markers = ('s', 'x', 'o', '^', 'v')\n",
    "    colors = ('red', 'blue', 'lightgreen', 'gray', 'cyan')\n",
    "    cmap = ListedColormap(colors[:len(np.unique(y))])\n",
    "\n",
    "    # plot the decision surface\n",
    "    x1_min, x1_max = X[:, 0].min() - 1, X[:, 0].max() + 1\n",
    "    x2_min, x2_max = X[:, 1].min() - 1, X[:, 1].max() + 1\n",
    "    xx1, xx2 = np.meshgrid(np.arange(x1_min, x1_max, resolution),\n",
    "                           np.arange(x2_min, x2_max, resolution))\n",
    "    Z = classifier.predict(np.array([xx1.ravel(), xx2.ravel()]).T)\n",
    "    Z = Z.reshape(xx1.shape)\n",
    "    plt.contourf(xx1, xx2, Z, alpha=0.3, cmap=cmap)\n",
    "    plt.xlim(xx1.min(), xx1.max())\n",
    "    plt.ylim(xx2.min(), xx2.max())\n",
    "\n",
    "    for idx, cl in enumerate(np.unique(y)):\n",
    "        plt.scatter(x=X[y == cl, 0], \n",
    "                    y=X[y == cl, 1],\n",
    "                    alpha=0.8, \n",
    "                    c=colors[idx],\n",
    "                    marker=markers[idx], \n",
    "                    label=cl, \n",
    "                    edgecolor='black')\n",
    "\n",
    "    # highlight test samples\n",
    "    if test_idx:\n",
    "        # plot all samples\n",
    "        X_test, y_test = X[test_idx, :], y[test_idx]\n",
    "\n",
    "        plt.scatter(X_test[:, 0],\n",
    "                    X_test[:, 1],\n",
    "                    c='',\n",
    "                    edgecolor='black',\n",
    "                    alpha=1.0,\n",
    "                    linewidth=1,\n",
    "                    marker='o',\n",
    "                    s=100, \n",
    "                    label='test set')"
   ]
  },
  {
   "cell_type": "markdown",
   "metadata": {},
   "source": [
    "### (2) Linear Perceptron"
   ]
  },
  {
   "cell_type": "markdown",
   "metadata": {},
   "source": [
    "Now, we are able to overview the sub dataset that we are interested in through a scatter figure. We can try to use a linear perceptron algorithsm to try to classify \"**_y_**\" with the two numerical variables \"**_age_**\" and \"**_balance_**\":"
   ]
  },
  {
   "cell_type": "code",
   "execution_count": 5,
   "metadata": {
    "scrolled": true
   },
   "outputs": [
    {
     "name": "stdout",
     "output_type": "stream",
     "text": [
      "Accuracy:  0.868828297715549\n"
     ]
    },
    {
     "data": {
      "image/png": "[encoded data removed]",
      "text/plain": [
       "<Figure size 432x288 with 1 Axes>"
      ]
     },
     "metadata": {},
     "output_type": "display_data"
    }
   ],
   "source": [
    "from sklearn.linear_model import Perceptron\n",
    "index = [0, 1]\n",
    "\n",
    "ppn = Perceptron(max_iter=40, eta0=0.1, random_state=0, tol=0.000001)\n",
    "ppn.fit(X_train_std[:, [0,1]], y_train)\n",
    "\n",
    "y_pred_ppn = ppn.predict(X_test_std[:, index])\n",
    "print('Accuracy: ', ((y_test == y_pred_ppn).sum())/len(y_test))\n",
    "\n",
    "plot_decision_regions(X = X_std[:, index], y = y, classifier = ppn)\n",
    "plt.xlabel(\"age\")\n",
    "plt.ylabel(\"balance\")\n",
    "plt.legend(loc = 'upper right')\n",
    "plt.show()"
   ]
  },
  {
   "cell_type": "markdown",
   "metadata": {},
   "source": [
    "It is clear that the result is not quite good from the figure, and much points are mis-classified. The accuracy is around 86% accourding to the statics. "
   ]
  },
  {
   "cell_type": "markdown",
   "metadata": {},
   "source": [
    "### (3) Logistic Regression"
   ]
  },
  {
   "cell_type": "markdown",
   "metadata": {},
   "source": [
    "First, we apply logistic regression method to the dataset:"
   ]
  },
  {
   "cell_type": "code",
   "execution_count": 6,
   "metadata": {
    "scrolled": true
   },
   "outputs": [
    {
     "name": "stdout",
     "output_type": "stream",
     "text": [
      "Accuracy:  0.871039056742815\n"
     ]
    },
    {
     "data": {
      "image/png": "[encoded data removed]",
      "text/plain": [
       "<Figure size 432x288 with 1 Axes>"
      ]
     },
     "metadata": {},
     "output_type": "display_data"
    }
   ],
   "source": [
    "from sklearn.linear_model import LogisticRegression\n",
    "index = [1, 3]\n",
    "\n",
    "lr = LogisticRegression(C = 1, random_state = 0)\n",
    "lr.fit(X_train_std[:,index], y_train) \n",
    "\n",
    "y_pred_lr = lr.predict(X_test_std[:,index])\n",
    "print('Accuracy: ', (y_test == y_pred_lr).sum()/len(y_test))\n",
    "\n",
    "plot_decision_regions(X = X_std[:, index], y = y, classifier = lr)\n",
    "plt.xlabel(\"balance\")\n",
    "plt.ylabel(\"housing\")\n",
    "plt.legend(loc = 'upper right')\n",
    "plt.show()"
   ]
  },
  {
   "cell_type": "markdown",
   "metadata": {},
   "source": [
    "The accuracy of the prediction is around 88%. This is similar to linear perceptron algorithsm with \"age\" and \"balance\" as the predictor, which is not good. It is easy to see that the result is not quite well from the figure, because the two different groups of individuals are highly crossed, and this make our result quite wired. "
   ]
  },
  {
   "cell_type": "markdown",
   "metadata": {},
   "source": [
    "### (4) SVM with RBF Kernel"
   ]
  },
  {
   "cell_type": "code",
   "execution_count": 7,
   "metadata": {},
   "outputs": [
    {
     "name": "stdout",
     "output_type": "stream",
     "text": [
      "Accuracy:  0.871039056742815\n"
     ]
    },
    {
     "data": {
      "image/png": "[encoded data removed]",
      "text/plain": [
       "<Figure size 432x288 with 1 Axes>"
      ]
     },
     "metadata": {},
     "output_type": "display_data"
    }
   ],
   "source": [
    "from sklearn.svm import SVC\n",
    "index = [1, 2]\n",
    "\n",
    "svm = SVC(kernel = 'rbf', random_state = 0, gamma = 0.10, C = 10)\n",
    "svm.fit(X_train_std[:,index], y_train)\n",
    "\n",
    "y_pred_svm = svm.predict(X_test_std[:,index])\n",
    "print('Accuracy: ', (y_test == y_pred_svm).sum()/len(y_test))\n",
    "\n",
    "plot_decision_regions(X = X_std[:, index], y = y, classifier = svm)\n",
    "plt.xlabel(\"balance\")\n",
    "plt.ylabel(\"housing\")\n",
    "plt.legend(loc = 'upper right')\n",
    "plt.show()"
   ]
  },
  {
   "cell_type": "markdown",
   "metadata": {},
   "source": [
    "It is insteresting that the SVM method get the exactly same result as Logistic regression method. However, SVM method takes much more time than Logistic regression method."
   ]
  },
  {
   "cell_type": "markdown",
   "metadata": {},
   "source": [
    "### (5) Random Forests"
   ]
  },
  {
   "cell_type": "markdown",
   "metadata": {},
   "source": [
    "Now we apply the Random Forest algorithsm to see whether the prediction performance would be better."
   ]
  },
  {
   "cell_type": "code",
   "execution_count": 11,
   "metadata": {},
   "outputs": [
    {
     "name": "stdout",
     "output_type": "stream",
     "text": [
      "Accuracy:  0.8135593220338984\n"
     ]
    },
    {
     "data": {
      "image/png": "[encoded data removed]",
      "text/plain": [
       "<Figure size 432x288 with 1 Axes>"
      ]
     },
     "metadata": {},
     "output_type": "display_data"
    }
   ],
   "source": [
    "from sklearn.ensemble import RandomForestClassifier\n",
    "index = [1, 3]\n",
    "\n",
    "forest = RandomForestClassifier(criterion = 'entropy',\n",
    "                                n_estimators = 30,\n",
    "                                random_state = 10,\n",
    "                                n_jobs = 2)\n",
    "forest.fit(X_train_std[:,index], y_train)\n",
    "\n",
    "y_pred = forest.predict(X_test_std[:,index])\n",
    "print('Accuracy: ', (y_test == y_pred).sum()/len(y_pred))\n",
    "\n",
    "plot_decision_regions(X = X_std[:, index], y = y, classifier = forest)\n",
    "plt.xlabel(\"balance\")\n",
    "plt.ylabel(\"housing\")\n",
    "plt.legend(loc = 'upper right')\n",
    "plt.show()"
   ]
  },
  {
   "cell_type": "markdown",
   "metadata": {},
   "source": [
    "It is obviously that Ramdom Forest algorithsm is not as good as the previous several methods."
   ]
  },
  {
   "cell_type": "markdown",
   "metadata": {},
   "source": [
    "### (6) Further Prediction Porformance Comparision"
   ]
  },
  {
   "cell_type": "code",
   "execution_count": 14,
   "metadata": {},
   "outputs": [
    {
     "name": "stdout",
     "output_type": "stream",
     "text": [
      "Accuracy (Linear Perceptron): \t 0.8811130034726062\n",
      "Accuracy (Logistic Regression):  0.8829709583950809\n",
      "Accuracy (SVM RBF kernel): \t 0.8830151954170445\n",
      "Accuracy (Random Forest): \t 0.8041627037667824\n"
     ]
    }
   ],
   "source": [
    "bank_full = pd.read_table('./bank-full.csv', sep = ';')\n",
    "y2 = bank_full.y.values\n",
    "y2 = np.where(y2 == 'yes', 1, -1)\n",
    "Xdf2 = pd.DataFrame()\n",
    "Xdf2['age'] = bank_full['age']\n",
    "Xdf2['balance'] = bank_full['balance']\n",
    "Xdf2['education'] = bank_full.education.replace(['primary', 'secondary', \n",
    "                                                 'tertiary', 'unknown'], [1, 2, 3, 0])\n",
    "Xdf2['default'] = bank_full['default'].replace(['yes', 'no'],[1, 0])\n",
    "Xdf2['housing'] = bank_full['housing'].replace(['yes', 'no'],[1, 0])\n",
    "Xdf2['loan'] = bank_full['loan'].replace(['yes', 'no'], [1, 0])\n",
    "\n",
    "X_test_std_partial2 = sc.transform(Xdf2.loc[:,['age','balance']])\n",
    "X_test_std2 = np.hstack((X_test_std_partial2, Xdf2.iloc[:,[2, 3, 4, 5]]))\n",
    "\n",
    "index = [0, 1]\n",
    "y_pred_ppn_2 = ppn.predict(X_test_std2[:, index])\n",
    "print('Accuracy (Linear Perceptron): \\t', (y_pred_ppn_2 == y2).sum()/len(y2))\n",
    "\n",
    "index = [1, 3]\n",
    "y_pred_lr_2 = lr.predict(X_test_std2[:,index])\n",
    "print('Accuracy (Logistic Regression): ' , (y_pred_lr_2 == y2).sum()/len(y2))\n",
    "\n",
    "index = [1, 2]\n",
    "y_pred_svm_2 = svm.predict(X_test_std2[:,index])\n",
    "print('Accuracy (SVM RBF kernel): \\t', (y_pred_svm_2 == y2).sum()/len(y2))\n",
    "\n",
    "index = [1, 3]\n",
    "y_pred_forest_2 = forest.predict(X_test_std2[:, index])\n",
    "print('Accuracy (Random Forest): \\t', (y_pred_forest_2 == y2).sum()/len(y2))"
   ]
  },
  {
   "cell_type": "markdown",
   "metadata": {},
   "source": [
    "From this test, I find that Logistic regression would get the best result compared with ramdom forest or linear perceptron. "
   ]
  }
 ],
 "metadata": {
  "kernelspec": {
   "display_name": "Python 3",
   "language": "python",
   "name": "python3"
  },
  "language_info": {
   "codemirror_mode": {
    "name": "ipython",
    "version": 3
   },
   "file_extension": ".py",
   "mimetype": "text/x-python",
   "name": "python",
   "nbconvert_exporter": "python",
   "pygments_lexer": "ipython3",
   "version": "3.4.6"
  }
 },
 "nbformat": 4,
 "nbformat_minor": 2
}
